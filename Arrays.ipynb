{
 "cells": [
  {
   "cell_type": "markdown",
   "metadata": {
    "collapsed": false
   },
   "source": [
    "# Analysis of arrays.c\n",
    "\n",
    "This code begins by creating an array of integers. It then creates a pointer to a block of memory large enough to accomidate as many integers as the array size. There is a check that ensures the memory was allocated properly. A constant string is then created. A loop then assigns the value of the index to the array at that index. This index is also assigned to the value at the pointer (shifted by the index). Once this loop is completed, another loop that extends beyond the size of the array is initiated. Inside this loop, the array, memory block, and string all print their values. The string is printed twice, the second time using pointer notation. Since the index extends beyond the size of the allocated memory, the value it returns is unpredictable. The memory for the allocated memory blcok is then deallocated with free(). The main() function then returns 0 to indicate everything worked."
   ]
  },
  {
   "cell_type": "markdown",
   "metadata": {},
   "source": [
    "## Changing types\n",
    "\n",
    "Changing the array from an array of ints to an array of floats resulted a compilation error since the print command has the elements of the array formatted as ints when they should be floats. This is fixed by changing \"%d\" to \"%f\"\n",
    "\n",
    "Changing the type of memblock resulted in a similar issue that was fixed by changing \"%d\" to \"%Lf\""
   ]
  },
  {
   "cell_type": "markdown",
   "metadata": {},
   "source": [
    "## Malloc and Free\n",
    "\n",
    "The malloc function allocates a block of memory. It takes in integer argument that is the number of bytes to be allocated. For this to be correct, it must be (numOfElements * sizeof(type)). This function then returns a pointer to the place in memory that has been allocated. Free deallocates this memory so that it can be used by the system again. If free is not called, this memory will remain allocated and the system will not be able to use that memory. This will persist until the system is rebooted."
   ]
  },
  {
   "cell_type": "code",
   "execution_count": null,
   "metadata": {
    "collapsed": true
   },
   "outputs": [],
   "source": []
  }
 ],
 "metadata": {
  "kernelspec": {
   "display_name": "Python 2 (SageMath)",
   "language": "python",
   "name": "python2"
  },
  "language_info": {
   "codemirror_mode": {
    "name": "ipython",
    "version": 2
   },
   "file_extension": ".py",
   "mimetype": "text/x-python",
   "name": "python",
   "nbconvert_exporter": "python",
   "pygments_lexer": "ipython2",
   "version": "2.7.10"
  }
 },
 "nbformat": 4,
 "nbformat_minor": 0
}
