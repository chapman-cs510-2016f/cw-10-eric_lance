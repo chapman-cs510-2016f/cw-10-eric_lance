{
 "cells": [
  {
   "cell_type": "markdown",
   "metadata": {
    "collapsed": false
   },
   "source": [
    "# Structs"
   ]
  },
  {
   "cell_type": "markdown",
   "metadata": {},
   "source": [
    "## Analysis of print_structs\n",
    "\n",
    "print_structs begins by declaring v and vprime as VEC3 and w as VEC2. Both v and w are initialized at the origin. printVec3(v) then prints the contents of v. vprime is then created by running modifyVec3(v,15.0) which takes a copy of v and sets its x-coordinate to 15, then assigns this to vprime. v itself is not modified by modifyVec3, so the next part that prints the original vector prints the same as it did before. It then prints the new modified vector vprime which has 15.0 as its x-coordinate and 0.0 for all others. The next part then prints the contents of the VEC2 \"w\" by the function printVec2(&w) which takes a pointer to a vector as input and prints the contents of the vector being pointed to. w is then modified by the function setVec2 which takes the pointer to w as its argument along with values for x and y. This function then assigns the values of x and y to the vector w directly without creating any copies. The program then prints the contents of w now that it has been modified. The program returns 0 to indicate nothing went wrong."
   ]
  },
  {
   "cell_type": "markdown",
   "metadata": {},
   "source": [
    "## \"pass by value\" vs. \"pass by reference\"\n",
    "\n",
    "To \"pass by value\" means to use the actual value as the argument instead of a pointer. This creates a copy of whatever the argument is that is manipulated within the function. The function then usually will output something that is not a pointer. In the output of the print_structs code it can be seen that the original vector v (second vector printed) is unchanged by the manipulations of modifyVec3 since the argument is passed by value to the function and the function creates a new vector that is assigned to vprime without modifying v.\n",
    "\n",
    "```c\n",
    "-----Pass by value test-----\n",
    "Original 3 vector:\n",
    "3Vector : [0.000000, 0.000000, 0.000000]\n",
    "Original 3 vector after modification:\n",
    "3Vector : [0.000000, 0.000000, 0.000000]\n",
    "New 3 vector after modification:\n",
    "3Vector : [15.000000, 0.000000, 0.000000]\n",
    "```\n",
    "\n",
    "To \"pass by reference\" means to use a pointer as the function argument. This means that the object can be manipulated directly at the pointer position without creating any copies. Manipulations done on the object within the function will act on the actual object that was the argument. In the output of print_structs, this is evident by the fact that the last two vectors printed are both \"w\" while the second one was modified by the setVec2 function that used the \"pass by reference\" method.\n",
    "\n",
    "```c\n",
    "-----Pass by reference test-----\n",
    "Original 2 vector:\n",
    "2Vector : [0.000000, 0.000000]\n",
    "Original 2 vector after modification:\n",
    "2Vector : [1.000000, 2.000000]\n",
    "```"
   ]
  },
  {
   "cell_type": "code",
   "execution_count": null,
   "metadata": {
    "collapsed": true
   },
   "outputs": [],
   "source": []
  }
 ],
 "metadata": {
  "kernelspec": {
   "display_name": "Python 2 (SageMath)",
   "language": "python",
   "name": "python2"
  },
  "language_info": {
   "codemirror_mode": {
    "name": "ipython",
    "version": 2
   },
   "file_extension": ".py",
   "mimetype": "text/x-python",
   "name": "python",
   "nbconvert_exporter": "python",
   "pygments_lexer": "ipython2",
   "version": "2.7.10"
  }
 },
 "nbformat": 4,
 "nbformat_minor": 0
}
