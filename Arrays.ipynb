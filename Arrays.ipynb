{
 "cells": [
  {
   "cell_type": "markdown",
   "metadata": {
    "collapsed": false
   },
   "source": [
    "# Analysis of arrays.c\n",
    "\n",
    "This code begins by creating an array of integers. It then sets a pointer to an allocated block of memory large enough to accommodate as many integers as the array size. There is a check that ensures the memory was allocated properly.\n",
    "\n",
    "A pointer is set to point to a constant string.\n",
    "\n",
    "Next, we perform a loop that assigns the value of the index to the array element at that index. This loop also assigns the value of the index to the indexed locations in the allocated memory block.\n",
    "\n",
    "Then a loop is used to print out the contents of each of these variables.  The loop for indexing through these memory blocks is purposefully set to be longer than the arrays and memory blocks being printed out.  For those memory elements where the index is inbounds, the value that was previously assigned to that element is correctly printed.  Once beyond the bounds of the memory block or array, the contents of the memory are unpredictable and could be any value.\n",
    "\n",
    "Note that the array and malloc'd memory are their own standalone memory.  For the pointer to the constant string, there are two methods used to print out the contents of the string.  One is by using an index into an array, and the other by using an offset from the pointer base.\n",
    "\n",
    "The memory for the allocated memory block is then deallocated with free(). The main() function then returns 0 to indicate everything worked."
   ]
  },
  {
   "cell_type": "markdown",
   "metadata": {},
   "source": [
    "## Changing types\n",
    "\n",
    "Changing the array from an array of ints to an array of floats resulted a compilation error since the print command has the elements of the array formatted as ints when they should be floats. This is fixed by changing \"%d\" to \"%f\"\n",
    "\n",
    "Changing the type of memblock resulted in a similar issue that was fixed by changing \"%d\" to \"%Lf\""
   ]
  },
  {
   "cell_type": "markdown",
   "metadata": {},
   "source": [
    "## Malloc and Free\n",
    "\n",
    "The malloc function allocates a block of memory. It takes in integer argument that is the number of bytes to be allocated. For this to be correct, it must be (numOfElements * sizeof(type)). This function then returns a pointer to the place in memory that has been allocated. Free deallocates this memory so that it can be used by the system again. If free is not called, this memory will remain allocated and the system will not be able to reuse that memory until it is deallocated. This will persist until the program is terminated."
   ]
  }
 ],
 "metadata": {
  "kernelspec": {
   "display_name": "Python 2 (SageMath)",
   "language": "python",
   "name": "python2"
  },
  "language_info": {
   "codemirror_mode": {
    "name": "ipython",
    "version": 2
   },
   "file_extension": ".py",
   "mimetype": "text/x-python",
   "name": "python",
   "nbconvert_exporter": "python",
   "pygments_lexer": "ipython2",
   "version": "2.7.10"
  }
 },
 "nbformat": 4,
 "nbformat_minor": 0
}
